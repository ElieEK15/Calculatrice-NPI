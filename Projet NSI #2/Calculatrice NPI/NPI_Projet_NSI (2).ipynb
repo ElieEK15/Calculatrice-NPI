{
 "cells": [
  {
   "cell_type": "code",
   "execution_count": 14,
   "metadata": {
    "trusted": true
   },
   "outputs": [],
   "source": [
    "from math import pow\n",
    "def pile_vide():\n",
    "    p=[]\n",
    "    return p\n",
    "\n",
    "def empiler(p,elt):\n",
    "    p.append(elt)\n",
    "\n",
    "def depiler(p):\n",
    "    x=p.pop(-1)\n",
    "    return x\n",
    "\n",
    "def nombre_pile(p):\n",
    "    return len(p)"
   ]
  },
  {
   "cell_type": "code",
   "execution_count": 15,
   "metadata": {
    "trusted": true
   },
   "outputs": [],
   "source": [
    "def appliquer_operation(op,a,b):\n",
    "    if op=='+':\n",
    "        return a+b\n",
    "    elif op=='-':\n",
    "        return a-b\n",
    "    elif op=='*':\n",
    "        return a*b\n",
    "    elif op=='/':\n",
    "        return a/b\n",
    "    elif op=='^':\n",
    "        return pow(a,b)\n",
    "    else: \n",
    "        return 'error'"
   ]
  },
  {
   "cell_type": "code",
   "execution_count": 16,
   "metadata": {
    "trusted": true
   },
   "outputs": [],
   "source": [
    "def operation(c):\n",
    "    splited=c.split(\" \")\n",
    "    return splited"
   ]
  },
  {
   "cell_type": "code",
   "execution_count": 17,
   "metadata": {
    "trusted": true
   },
   "outputs": [],
   "source": [
    "def Calculer(s):\n",
    "    p=pile_vide()\n",
    "    for i in s:\n",
    "        if i==\"+\"or i==\"-\"or i==\"*\"or i==\"/\" or i==\"^\":\n",
    "            x=depiler(p)\n",
    "            y=depiler(p)\n",
    "            r=appliquer_operation(i,float(y),float(x))\n",
    "            empiler(p,r)\n",
    "        else:\n",
    "            empiler(p,float(i))\n",
    "    return p"
   ]
  },
  {
   "cell_type": "code",
   "execution_count": 18,
   "metadata": {
    "trusted": true
   },
   "outputs": [],
   "source": [
    "def calculator():\n",
    "    x=input('Enter your operation: ')\n",
    "    z=operation(x)\n",
    "    y=Calculer(z)\n",
    "    print('Le resultat de ton operation est:', y[0])"
   ]
  },
  {
   "cell_type": "code",
   "execution_count": 19,
   "metadata": {
    "trusted": true
   },
   "outputs": [
    {
     "ename": "ValueError",
     "evalue": "could not convert string to float: '+-'",
     "output_type": "error",
     "traceback": [
      "\u001b[1;31m---------------------------------------------------------------------------\u001b[0m",
      "\u001b[1;31mValueError\u001b[0m                                Traceback (most recent call last)",
      "Cell \u001b[1;32mIn[19], line 1\u001b[0m\n\u001b[1;32m----> 1\u001b[0m \u001b[43mcalculator\u001b[49m\u001b[43m(\u001b[49m\u001b[43m)\u001b[49m\n",
      "Cell \u001b[1;32mIn[18], line 4\u001b[0m, in \u001b[0;36mcalculator\u001b[1;34m()\u001b[0m\n\u001b[0;32m      2\u001b[0m x\u001b[38;5;241m=\u001b[39m\u001b[38;5;28minput\u001b[39m(\u001b[38;5;124m'\u001b[39m\u001b[38;5;124mEnter your operation: \u001b[39m\u001b[38;5;124m'\u001b[39m)\n\u001b[0;32m      3\u001b[0m z\u001b[38;5;241m=\u001b[39moperation(x)\n\u001b[1;32m----> 4\u001b[0m y\u001b[38;5;241m=\u001b[39m\u001b[43mCalculer\u001b[49m\u001b[43m(\u001b[49m\u001b[43mz\u001b[49m\u001b[43m)\u001b[49m\n\u001b[0;32m      5\u001b[0m \u001b[38;5;28mprint\u001b[39m(\u001b[38;5;124m'\u001b[39m\u001b[38;5;124mLe resultat de ton operation est:\u001b[39m\u001b[38;5;124m'\u001b[39m, y[\u001b[38;5;241m0\u001b[39m])\n",
      "Cell \u001b[1;32mIn[17], line 10\u001b[0m, in \u001b[0;36mCalculer\u001b[1;34m(s)\u001b[0m\n\u001b[0;32m      8\u001b[0m         empiler(p,r)\n\u001b[0;32m      9\u001b[0m     \u001b[38;5;28;01melse\u001b[39;00m:\n\u001b[1;32m---> 10\u001b[0m         empiler(p,\u001b[38;5;28;43mfloat\u001b[39;49m\u001b[43m(\u001b[49m\u001b[43mi\u001b[49m\u001b[43m)\u001b[49m)\n\u001b[0;32m     11\u001b[0m \u001b[38;5;28;01mreturn\u001b[39;00m p\n",
      "\u001b[1;31mValueError\u001b[0m: could not convert string to float: '+-'"
     ]
    }
   ],
   "source": [
    "calculator()"
   ]
  }
 ],
 "metadata": {
  "kernelspec": {
   "display_name": "Python 3",
   "language": "python",
   "name": "python3"
  },
  "language_info": {
   "codemirror_mode": {
    "name": "ipython",
    "version": 3
   },
   "file_extension": ".py",
   "mimetype": "text/x-python",
   "name": "python",
   "nbconvert_exporter": "python",
   "pygments_lexer": "ipython3",
   "version": "3.13.1"
  }
 },
 "nbformat": 4,
 "nbformat_minor": 2
}
